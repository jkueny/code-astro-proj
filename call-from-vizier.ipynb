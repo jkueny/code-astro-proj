{
 "cells": [
  {
   "cell_type": "code",
   "execution_count": 1,
   "metadata": {},
   "outputs": [
    {
     "name": "stdout",
     "output_type": "stream",
     "text": [
      "Intel MKL WARNING: Support of Intel(R) Streaming SIMD Extensions 4.2 (Intel(R) SSE4.2) enabled only processors has been deprecated. Intel oneAPI Math Kernel Library 2025.0 will require Intel(R) Advanced Vector Extensions (Intel(R) AVX) instructions.\n",
      "Intel MKL WARNING: Support of Intel(R) Streaming SIMD Extensions 4.2 (Intel(R) SSE4.2) enabled only processors has been deprecated. Intel oneAPI Math Kernel Library 2025.0 will require Intel(R) Advanced Vector Extensions (Intel(R) AVX) instructions.\n"
     ]
    }
   ],
   "source": [
    "#Import the necessary modules\n",
    "from astropy import units as u\n",
    "from astropy.coordinates import SkyCoord, Angle\n",
    "from astropy.wcs import WCS\n",
    "import warnings\n",
    "import numpy as np\n",
    "warnings.filterwarnings('ignore')\n",
    "from astroquery.vizier import Vizier\n",
    "from astroquery.gaia import Gaia\n",
    "%matplotlib inline\n",
    "import matplotlib.pyplot as plt\n",
    "from IPython.display import Image\n",
    "from IPython.core.display import HTML\n",
    "import pandas as pd\n",
    "from astroquery.simbad import Simbad"
   ]
  },
  {
   "cell_type": "code",
   "execution_count": 2,
   "metadata": {},
   "outputs": [],
   "source": [
    "## change row limit to none; else default to 50 \n",
    "Vizier.ROW_LIMIT = -1\n",
    "Gaia.ROW_LIMIT = -1"
   ]
  },
  {
   "cell_type": "code",
   "execution_count": 3,
   "metadata": {},
   "outputs": [],
   "source": [
    "# inputs\n",
    "#print(\"input search values here:\")\n",
    "# scoords = input(\"Input_RA_DEC_.\")\n",
    "scoords = \"11 02 24.8763629208 -77 33 35.667131796\" #hour angle\n",
    "# srad = input(\"Input_Search_Radius.\")\n",
    "srad = 0.5 #deg\n",
    "\n",
    "def query_the_gaia(objloc,conerad,catalognamelist=[\"I/350/gaiaedr3\",\"B/wds\"],RUWE=True,maghigh=3,maglow=10):\n",
    "    \"\"\"\n",
    "    This function will query the specified catalogs using Astropy Vizier.\n",
    "\n",
    "    Args:\n",
    "        catalognamelist (list): List of catalog name strings as shown on Vizier. \n",
    "        Ex. \"I/350/gaiaedr3\"\n",
    "        objra (float): RA coord in degrees\n",
    "        objdec (float): Dec coord in degrees\n",
    "        conerad (float): Cone radius in degrees\n",
    "\n",
    "    Returns:\n",
    "        _type_: _description_\n",
    "    \"\"\"    \n",
    "    if len(objloc) == 2:\n",
    "         obj_coord=SkyCoord(objloc[0],objloc[1],unit=(u.degree, u.degree), frame='icrs')\n",
    "    else:\n",
    "        obj_coord=SkyCoord(objloc,unit=(u.hourangle, u.degree), frame='icrs')\n",
    "    result = Vizier.query_region(obj_coord,\n",
    "                            radius=u.Quantity(conerad,u.deg),\n",
    "                             catalog=catalognamelist )\n",
    "    \n",
    "    \n",
    "    if RUWE:\n",
    "        result=result[0][result[0]['RUWE']<1.2]\n",
    "\n",
    "    #filtering more by G magnitude\n",
    "    result=result[result['Gmag']>maghigh] \n",
    "    result=result[result['Gmag']<maglow]\n",
    "        \n",
    "    gaia_id_list=result['Source']\n",
    "\n",
    "    # TODO add column headers for name, RA, DEC, RUWE, mag\n",
    "    singles=[]\n",
    "    for i in gaia_id_list:\n",
    "        id= \"Gaia DR3\"+str(i)\n",
    "        info=Simbad.query_objectids(id)\n",
    "        strinfo=str(info)\n",
    "        if 'wds' in strinfo:\n",
    "            gaia_id_list.remove(i)\n",
    "        else:\n",
    "            singles.append(info[0])\n",
    "\n",
    "    return singles\n",
    "\n",
    "temp_table = query_the_gaia(objloc=scoords,conerad=srad,catalognamelist=[\"I/355/gaiadr3\"])\n",
    "#print(temp_table)"
   ]
  },
  {
   "cell_type": "code",
   "execution_count": 4,
   "metadata": {},
   "outputs": [
    {
     "data": {
      "text/html": [
       "<div>\n",
       "<style scoped>\n",
       "    .dataframe tbody tr th:only-of-type {\n",
       "        vertical-align: middle;\n",
       "    }\n",
       "\n",
       "    .dataframe tbody tr th {\n",
       "        vertical-align: top;\n",
       "    }\n",
       "\n",
       "    .dataframe thead th {\n",
       "        text-align: right;\n",
       "    }\n",
       "</style>\n",
       "<table border=\"1\" class=\"dataframe\">\n",
       "  <thead>\n",
       "    <tr style=\"text-align: right;\">\n",
       "      <th></th>\n",
       "      <th>0</th>\n",
       "    </tr>\n",
       "  </thead>\n",
       "  <tbody>\n",
       "    <tr>\n",
       "      <th>0</th>\n",
       "      <td>[[Gaia DR3 5201001680866216704], [TIC 44994436...</td>\n",
       "    </tr>\n",
       "    <tr>\n",
       "      <th>1</th>\n",
       "      <td>[[Gaia DR3 5201122936381243392], [TIC 45432832...</td>\n",
       "    </tr>\n",
       "    <tr>\n",
       "      <th>2</th>\n",
       "      <td>[[Gaia DR3 5201184921349846144], [TIC 45422712...</td>\n",
       "    </tr>\n",
       "    <tr>\n",
       "      <th>3</th>\n",
       "      <td>[[Gaia DR3 5201225740718586624], [TIC 27767117...</td>\n",
       "    </tr>\n",
       "  </tbody>\n",
       "</table>\n",
       "</div>"
      ],
      "text/plain": [
       "                                                   0\n",
       "0  [[Gaia DR3 5201001680866216704], [TIC 44994436...\n",
       "1  [[Gaia DR3 5201122936381243392], [TIC 45432832...\n",
       "2  [[Gaia DR3 5201184921349846144], [TIC 45422712...\n",
       "3  [[Gaia DR3 5201225740718586624], [TIC 27767117..."
      ]
     },
     "execution_count": 4,
     "metadata": {},
     "output_type": "execute_result"
    }
   ],
   "source": [
    "pd.DataFrame(temp_table)"
   ]
  },
  {
   "cell_type": "code",
   "execution_count": null,
   "metadata": {},
   "outputs": [],
   "source": []
  }
 ],
 "metadata": {
  "kernelspec": {
   "display_name": "Python 3 (ipykernel)",
   "language": "python",
   "name": "python3"
  },
  "language_info": {
   "codemirror_mode": {
    "name": "ipython",
    "version": 3
   },
   "file_extension": ".py",
   "mimetype": "text/x-python",
   "name": "python",
   "nbconvert_exporter": "python",
   "pygments_lexer": "ipython3",
   "version": "3.10.11"
  }
 },
 "nbformat": 4,
 "nbformat_minor": 2
}
