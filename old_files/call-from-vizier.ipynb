{
 "cells": [
  {
   "cell_type": "code",
   "execution_count": 1,
   "metadata": {},
   "outputs": [
    {
     "name": "stdout",
     "output_type": "stream",
     "text": [
      "Intel MKL WARNING: Support of Intel(R) Streaming SIMD Extensions 4.2 (Intel(R) SSE4.2) enabled only processors has been deprecated. Intel oneAPI Math Kernel Library 2025.0 will require Intel(R) Advanced Vector Extensions (Intel(R) AVX) instructions.\n",
      "Intel MKL WARNING: Support of Intel(R) Streaming SIMD Extensions 4.2 (Intel(R) SSE4.2) enabled only processors has been deprecated. Intel oneAPI Math Kernel Library 2025.0 will require Intel(R) Advanced Vector Extensions (Intel(R) AVX) instructions.\n"
     ]
    }
   ],
   "source": [
    "#Import the necessary modules\n",
    "from astropy import units as u\n",
    "from astropy.coordinates import SkyCoord, Angle\n",
    "import warnings\n",
    "import numpy as np\n",
    "warnings.filterwarnings('ignore')\n",
    "from astroquery.vizier import Vizier\n",
    "from astroquery.gaia import Gaia\n",
    "from astroquery.simbad import Simbad\n",
    "%matplotlib inline\n",
    "import matplotlib.pyplot as plt\n",
    "from IPython.display import Image\n",
    "from IPython.core.display import HTML\n",
    "import pandas as pd"
   ]
  },
  {
   "cell_type": "code",
   "execution_count": 2,
   "metadata": {},
   "outputs": [],
   "source": [
    "## change row limit to none; else default to 50 \n",
    "Vizier.ROW_LIMIT = -1\n",
    "Gaia.ROW_LIMIT = -1\n",
    "\n",
    "def query_the_gaia(objloc,conerad,catalognamelist=[\"I/350/gaiaedr3\",\"B/wds\"],RUWE=True,maghigh=3,maglow=10):\n",
    "    \"\"\"\n",
    "    This function will query the specified catalogs using Astropy Vizier.\n",
    "\n",
    "    Args:\n",
    "        catalognamelist (list): List of catalog name strings as shown on Vizier. \n",
    "        Ex. \"I/350/gaiaedr3\"\n",
    "        objra (float): RA coord in degrees\n",
    "        objdec (float): Dec coord in degrees\n",
    "        conerad (float): Cone radius in degrees\n",
    "\n",
    "    Returns:\n",
    "        _type_: _description_\n",
    "    \"\"\"    \n",
    "    \n",
    "    if len(objloc) == 2:\n",
    "         obj_coord=SkyCoord(objloc[0],objloc[1],unit=(u.degree, u.degree), frame='icrs')\n",
    "    else:\n",
    "        obj_coord=SkyCoord(objloc,unit=(u.hourangle, u.degree), frame='icrs')\n",
    "    \n",
    "    result = Vizier.query_region(obj_coord,\n",
    "                            radius=u.Quantity(conerad,u.deg),\n",
    "                             catalog=catalognamelist )\n",
    "    \n",
    "    \n",
    "    if RUWE:\n",
    "        result=result[0][result[0]['RUWE']<1.2]\n",
    "\n",
    "    #filtering more by G magnitude\n",
    "    result=result[result['Gmag']>maghigh] \n",
    "    result=result[result['Gmag']<maglow]\n",
    "        \n",
    "    gaia_id_list=result['Source']\n",
    "\n",
    "    # TODO add column headers for name, RA, DEC, RUWE, mag\n",
    "    singles=[[\"Object_Name\",\"RA\",\"DEC\",\"Mean_Gmag\",\"RUWE\"]]\n",
    "    for i in gaia_id_list:\n",
    "        id= \"Gaia DR3\"+str(i)\n",
    "        info=Simbad.query_objectids(id)\n",
    "        strinfo=str(info)\n",
    "        if 'wds' in strinfo:\n",
    "            gaia_id_list.remove(i)\n",
    "        elif type(info)== None:\n",
    "            gaia_id_list.remove(i)\n",
    "        else:\n",
    "            simbadinfo=Simbad.query_object(id)\n",
    "            singles.append([simbadinfo['MAIN_ID'][0],simbadinfo['RA'][0],simbadinfo['DEC'][0],result['Gmag'][0],result[0]['RUWE']])\n",
    "\n",
    "    df=pd.DataFrame(singles)\n",
    "    df.to_csv(\"Non-Binary.csv\", sep= \" \",header=False)\n",
    "\n",
    "    return "
   ]
  },
  {
   "cell_type": "code",
   "execution_count": 3,
   "metadata": {},
   "outputs": [],
   "source": [
    "scoords = \"11 02 24.8763629208 -77 33 35.667131796\" #hour angle\n",
    "# srad = input(\"Input_Search_Radius.\")\n",
    "srad = 0.5 #deg\n",
    "\n",
    "temp = query_the_gaia(objloc=scoords,conerad=srad,catalognamelist=[\"I/355/gaiadr3\"])"
   ]
  },
  {
   "cell_type": "code",
   "execution_count": null,
   "metadata": {},
   "outputs": [],
   "source": []
  },
  {
   "cell_type": "code",
   "execution_count": null,
   "metadata": {},
   "outputs": [],
   "source": [
    "print(\"Please enter object RA and DEC in the following forms\")\n",
    "print(\"\")\n",
    "print(\"\\\"xx:xx:xx.xx +xx:xx:xxx\\\" or \\\"xx xx xx.xx +xx xx xxx.xx\\\" for hourangle and degree\")\n",
    "print(\" xxx for degrees only coordinate value\")\n",
    "objloc= input('Object RA and Dec')\n",
    "print(\"Object location is\", objloc)\n",
    "\n",
    "print(\"\")\n",
    "print(\"Enter Cone Search Radius in Degrees\")\n",
    "conerad= input('Cone Search Radius')\n",
    "print(\"Now Searching for single stars in\", conerad, \"degree radius from\", objloc, \".\")"
   ]
  },
  {
   "cell_type": "code",
   "execution_count": null,
   "metadata": {},
   "outputs": [],
   "source": []
  }
 ],
 "metadata": {
  "kernelspec": {
   "display_name": "Python 3 (ipykernel)",
   "language": "python",
   "name": "python3"
  },
  "language_info": {
   "codemirror_mode": {
    "name": "ipython",
    "version": 3
   },
   "file_extension": ".py",
   "mimetype": "text/x-python",
   "name": "python",
   "nbconvert_exporter": "python",
   "pygments_lexer": "ipython3",
   "version": "3.10.11"
  }
 },
 "nbformat": 4,
 "nbformat_minor": 2
}
